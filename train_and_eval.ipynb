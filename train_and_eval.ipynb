{
 "cells": [
  {
   "cell_type": "code",
   "execution_count": null,
   "id": "38649d3d-50cb-4ff4-b702-f792e174f266",
   "metadata": {},
   "outputs": [],
   "source": [
    "import pathlib"
   ]
  },
  {
   "cell_type": "code",
   "execution_count": null,
   "id": "59886afe-9ca8-4206-98b5-3ba7ba244586",
   "metadata": {},
   "outputs": [],
   "source": [
    "import numpy as np\n",
    "import torch\n",
    "\n",
    "from residual_actions import ResidualActionsSettings, ResidualActionsLearner"
   ]
  },
  {
   "cell_type": "markdown",
   "id": "7e9b3c63-09bb-4b7f-a237-3d6016ec66dc",
   "metadata": {},
   "source": [
    "# Read data"
   ]
  },
  {
   "cell_type": "code",
   "execution_count": null,
   "id": "adf3f54a-ff4a-4e66-b201-2edf1685e952",
   "metadata": {},
   "outputs": [],
   "source": [
    "# TODO: more training data\n",
    "with open('datasets/pendulum_expert_data/observations.npy', 'rb') as f:\n",
    "    states = np.load(f, allow_pickle=True)\n",
    "with open('datasets/pendulum_expert_data/actions.npy', 'rb') as f:\n",
    "    actions = np.load(f, allow_pickle=True)\n",
    "\n",
    "# skip close fromes, essentialy changing from 60 fps to 15 fps\n",
    "states = states[::4, ...]\n",
    "actions = actions[::4, ...]"
   ]
  },
  {
   "cell_type": "markdown",
   "id": "b34dff44-238f-43f6-a117-1a3281d8fc72",
   "metadata": {},
   "source": [
    "# Set config"
   ]
  },
  {
   "cell_type": "code",
   "execution_count": null,
   "id": "9533ae58-158e-452f-93ad-400674a83117",
   "metadata": {},
   "outputs": [],
   "source": [
    "# TODO: LR scheduler\n",
    "SETTINGS = ResidualActionsSettings(\n",
    "    history_size=16,\n",
    "    hidden_channels_memory=128,\n",
    "    hidden_channels_behavior=256,\n",
    "    batch_size=32,\n",
    "    optim_learning_rate=0.001,\n",
    "    target_loss=1e-07,\n",
    "    force_stop_at_plateau_epochs=20,\n",
    "    train_log_frequency=20,\n",
    "    running_loss_window_size=10,\n",
    "    min_epochs=100,\n",
    "    grace_epochs_after_min_epochs=20,\n",
    "    max_epochs=900\n",
    ")"
   ]
  },
  {
   "cell_type": "code",
   "execution_count": null,
   "id": "bcf0c7fa-06ba-4d14-96ec-770f5f1c392d",
   "metadata": {},
   "outputs": [],
   "source": [
    "learner = ResidualActionsLearner(\n",
    "    state_space_size=states.shape[-1],\n",
    "    action_space_size=actions.shape[-1],\n",
    "    settings=SETTINGS,\n",
    "    device='cuda'\n",
    ")"
   ]
  },
  {
   "cell_type": "markdown",
   "id": "6df8c8e8-40d0-4776-aabe-16761309d1fa",
   "metadata": {},
   "source": [
    "# Train"
   ]
  },
  {
   "cell_type": "code",
   "execution_count": null,
   "id": "dd7821b5-4b94-4dae-bc63-129f7f0ac1e5",
   "metadata": {
    "scrolled": true
   },
   "outputs": [],
   "source": [
    "learner.process_and_train_full(\n",
    "    states_train=torch.from_numpy(states).to(torch.float32).cuda(),\n",
    "    actions_train=torch.from_numpy(actions).to(torch.float32).cuda()\n",
    ")"
   ]
  },
  {
   "cell_type": "code",
   "execution_count": null,
   "id": "5dae7898-ce5b-4cdc-9e7f-b02b771e268a",
   "metadata": {},
   "outputs": [],
   "source": [
    "torch.save(learner.get_state_dicts(), SETTINGS.learner_state_path)"
   ]
  },
  {
   "cell_type": "markdown",
   "id": "e068c660-98f8-44fd-8a20-1dd8c280e486",
   "metadata": {},
   "source": [
    "# Evaluate"
   ]
  },
  {
   "cell_type": "code",
   "execution_count": null,
   "id": "f94ce711-59d2-4844-bf8b-dc0a3170e483",
   "metadata": {},
   "outputs": [],
   "source": [
    "import gym"
   ]
  },
  {
   "cell_type": "code",
   "execution_count": null,
   "id": "ac2f013a-8871-4d3e-a0b0-548618c27e54",
   "metadata": {},
   "outputs": [],
   "source": [
    "learner.set_state_dicts(torch.load(SETTINGS.learner_state_path))"
   ]
  },
  {
   "cell_type": "code",
   "execution_count": null,
   "id": "f2833a88-2472-4a82-bc06-18a9df7c65f5",
   "metadata": {},
   "outputs": [],
   "source": [
    "learner.to_inplace('cpu')"
   ]
  },
  {
   "cell_type": "code",
   "execution_count": null,
   "id": "8e0e247d-1e6a-4809-a39c-8c6dbe6f7003",
   "metadata": {},
   "outputs": [],
   "source": [
    "env = gym.make('Pendulum-v1', render_mode='human')\n",
    "obs, info = env.reset()\n",
    "done = False\n",
    "\n",
    "observations = []\n",
    "actions = []"
   ]
  },
  {
   "cell_type": "code",
   "execution_count": null,
   "id": "2e5c8313-c51c-49e2-9bee-194f61725e29",
   "metadata": {
    "scrolled": true
   },
   "outputs": [],
   "source": [
    "max_steps = 200\n",
    "step_counter = 0\n",
    "rewards = []\n",
    "while not done and step_counter < max_steps:\n",
    "    action = learner.act_and_step(torch.from_numpy(obs).to(torch.float32))\n",
    "    obs, reward, done, terminated, info = env.step(np.array([action]))\n",
    "    rewards.append(reward)\n",
    "    env.render()\n",
    "    step_counter += 1\n",
    "    if step_counter % 20 == 0:\n",
    "        print(f'step: {step_counter}')\n",
    "env.close()"
   ]
  },
  {
   "cell_type": "code",
   "execution_count": null,
   "id": "92777b7a-c0e9-4ca6-997e-91c85c292c7c",
   "metadata": {},
   "outputs": [],
   "source": [
    "rewards_np = np.array(rewards)"
   ]
  },
  {
   "cell_type": "code",
   "execution_count": null,
   "id": "8003a5a5-6366-4681-9878-135fef8b24bb",
   "metadata": {},
   "outputs": [],
   "source": [
    "import matplotlib.pyplot as plt"
   ]
  },
  {
   "cell_type": "code",
   "execution_count": null,
   "id": "ef65a377-9d2c-43b4-881d-f699ece79417",
   "metadata": {},
   "outputs": [],
   "source": [
    "plt.plot(rewards_np)"
   ]
  },
  {
   "cell_type": "code",
   "execution_count": null,
   "id": "dfe3841c-f4b6-4830-860e-93f6dd39fc21",
   "metadata": {},
   "outputs": [],
   "source": [
    "rewards_np.max(), rewards_np.min()"
   ]
  },
  {
   "cell_type": "code",
   "execution_count": null,
   "id": "4e32a0b7-1f2a-45a4-ba20-e6431135a8e4",
   "metadata": {},
   "outputs": [],
   "source": []
  }
 ],
 "metadata": {
  "kernelspec": {
   "display_name": "Python 3 (ipykernel)",
   "language": "python",
   "name": "python3"
  },
  "language_info": {
   "codemirror_mode": {
    "name": "ipython",
    "version": 3
   },
   "file_extension": ".py",
   "mimetype": "text/x-python",
   "name": "python",
   "nbconvert_exporter": "python",
   "pygments_lexer": "ipython3",
   "version": "3.10.10"
  }
 },
 "nbformat": 4,
 "nbformat_minor": 5
}
