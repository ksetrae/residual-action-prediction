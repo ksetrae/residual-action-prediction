{
 "cells": [
  {
   "cell_type": "code",
   "execution_count": 1,
   "id": "38649d3d-50cb-4ff4-b702-f792e174f266",
   "metadata": {},
   "outputs": [],
   "source": [
    "import pathlib"
   ]
  },
  {
   "cell_type": "code",
   "execution_count": 2,
   "id": "59886afe-9ca8-4206-98b5-3ba7ba244586",
   "metadata": {},
   "outputs": [],
   "source": [
    "import numpy as np\n",
    "import torch\n",
    "\n",
    "from residual_actions import ResidualActionsSettings, ResidualActionsLearner"
   ]
  },
  {
   "cell_type": "markdown",
   "id": "7e9b3c63-09bb-4b7f-a237-3d6016ec66dc",
   "metadata": {},
   "source": [
    "# Read data"
   ]
  },
  {
   "cell_type": "code",
   "execution_count": 3,
   "id": "adf3f54a-ff4a-4e66-b201-2edf1685e952",
   "metadata": {},
   "outputs": [],
   "source": [
    "# TODO: more training data\n",
    "with open('datasets/pendulum_expert_data/observations.npy', 'rb') as f:\n",
    "    states = np.load(f, allow_pickle=True)\n",
    "with open('datasets/pendulum_expert_data/actions.npy', 'rb') as f:\n",
    "    actions = np.load(f, allow_pickle=True)\n",
    "\n",
    "# skip close fromes, essentialy changing from 60 fps to 15 fps\n",
    "states = states[::4, ...]\n",
    "actions = actions[::4, ...]"
   ]
  },
  {
   "cell_type": "markdown",
   "id": "b34dff44-238f-43f6-a117-1a3281d8fc72",
   "metadata": {},
   "source": [
    "# Set config"
   ]
  },
  {
   "cell_type": "code",
   "execution_count": 4,
   "id": "9533ae58-158e-452f-93ad-400674a83117",
   "metadata": {},
   "outputs": [],
   "source": [
    "# TODO: LR scheduler\n",
    "SETTINGS = ResidualActionsSettings(\n",
    "    history_size=16,\n",
    "    hidden_channels_memory=128,\n",
    "    hidden_channels_behavior=256,\n",
    "    batch_size=32,\n",
    "    optim_learning_rate=0.001,\n",
    "    target_loss=1e-07,\n",
    "    force_stop_at_plateau_epochs=20,\n",
    "    train_log_frequency=20,\n",
    "    running_loss_window_size=10,\n",
    "    min_epochs=100,\n",
    "    grace_epochs_after_min_epochs=20,\n",
    "    max_epochs=900\n",
    ")"
   ]
  },
  {
   "cell_type": "code",
   "execution_count": 5,
   "id": "bcf0c7fa-06ba-4d14-96ec-770f5f1c392d",
   "metadata": {},
   "outputs": [],
   "source": [
    "learner = ResidualActionsLearner(\n",
    "    state_space_size=states.shape[-1],\n",
    "    action_space_size=actions.shape[-1],\n",
    "    settings=SETTINGS,\n",
    "    device='cuda'\n",
    ")"
   ]
  },
  {
   "cell_type": "markdown",
   "id": "6df8c8e8-40d0-4776-aabe-16761309d1fa",
   "metadata": {},
   "source": [
    "# Train"
   ]
  },
  {
   "cell_type": "code",
   "execution_count": 6,
   "id": "dd7821b5-4b94-4dae-bc63-129f7f0ac1e5",
   "metadata": {
    "scrolled": true
   },
   "outputs": [
    {
     "name": "stderr",
     "output_type": "stream",
     "text": [
      "INFO:residual_actions._res_actions_learner:ResidualActionsLearner training: epoch 20; loss: 0.28173402; running mean loss of 10 size: 0.28676241; \n",
      "additional loss info: {'memory': 0.13820220809429884, 'behavior': 0.14353182166814804}.\n",
      "INFO:residual_actions._res_actions_learner:ResidualActionsLearner training: epoch 40; loss: 0.1146236; running mean loss of 10 size: 0.1621839; \n",
      "additional loss info: {'memory': 0.03237541206181049, 'behavior': 0.08224818482995033}.\n",
      "INFO:residual_actions._res_actions_learner:ResidualActionsLearner training: epoch 60; loss: 0.10310176; running mean loss of 10 size: 0.1041531; \n",
      "additional loss info: {'memory': 0.022257481003180146, 'behavior': 0.0808442821726203}.\n",
      "INFO:residual_actions._res_actions_learner:ResidualActionsLearner training: epoch 80; loss: 0.093619; running mean loss of 10 size: 0.09870784; \n",
      "additional loss info: {'memory': 0.010549089638516307, 'behavior': 0.0830699079670012}.\n",
      "INFO:residual_actions._res_actions_learner:ResidualActionsLearner training: epoch 100; loss: 0.09654497; running mean loss of 10 size: 0.09452801; \n",
      "additional loss info: {'memory': 0.006976278542424552, 'behavior': 0.08956869598478079}.\n",
      "INFO:residual_actions._res_actions_learner:ResidualActionsLearner training: epoch 120; loss: 0.08777972; running mean loss of 10 size: 0.08958309; \n",
      "additional loss info: {'memory': 0.006258514600631315, 'behavior': 0.08152120700106025}.\n",
      "INFO:residual_actions._res_actions_learner:ResidualActionsLearner training: epoch 140; loss: 0.09699116; running mean loss of 10 size: 0.09222344; \n",
      "additional loss info: {'memory': 0.017174292355775833, 'behavior': 0.07981686433777213}.\n",
      "INFO:residual_actions._res_actions_learner:ResidualActionsLearner training: plateau reached, running loss: 0.08724945280700921\n"
     ]
    }
   ],
   "source": [
    "learner.process_and_train_full(\n",
    "    states_train=torch.from_numpy(states).to(torch.float32).cuda(),\n",
    "    actions_train=torch.from_numpy(actions).to(torch.float32).cuda()\n",
    ")\n",
    "torch.save(learner.get_state_dicts(), SETTINGS.learner_state_path)"
   ]
  },
  {
   "cell_type": "markdown",
   "id": "e068c660-98f8-44fd-8a20-1dd8c280e486",
   "metadata": {},
   "source": [
    "# Evaluate"
   ]
  },
  {
   "cell_type": "code",
   "execution_count": 7,
   "id": "f94ce711-59d2-4844-bf8b-dc0a3170e483",
   "metadata": {},
   "outputs": [],
   "source": [
    "import gym"
   ]
  },
  {
   "cell_type": "code",
   "execution_count": 8,
   "id": "ac2f013a-8871-4d3e-a0b0-548618c27e54",
   "metadata": {},
   "outputs": [],
   "source": [
    "learner.set_state_dicts(torch.load(SETTINGS.learner_state_path))"
   ]
  },
  {
   "cell_type": "code",
   "execution_count": 9,
   "id": "f2833a88-2472-4a82-bc06-18a9df7c65f5",
   "metadata": {},
   "outputs": [],
   "source": [
    "learner.to_inplace('cpu')"
   ]
  },
  {
   "cell_type": "code",
   "execution_count": 10,
   "id": "8e0e247d-1e6a-4809-a39c-8c6dbe6f7003",
   "metadata": {},
   "outputs": [],
   "source": [
    "env = gym.make('Pendulum-v1', render_mode='human')\n",
    "obs, info = env.reset()\n",
    "done = False\n",
    "\n",
    "observations = []\n",
    "actions = []"
   ]
  },
  {
   "cell_type": "code",
   "execution_count": 11,
   "id": "2e5c8313-c51c-49e2-9bee-194f61725e29",
   "metadata": {
    "scrolled": true
   },
   "outputs": [
    {
     "name": "stderr",
     "output_type": "stream",
     "text": [
      "C:\\Users\\kenfir\\PycharmProjects\\proxymore_learners\\residual_actions\\residual_actions\\venv\\lib\\site-packages\\gym\\utils\\passive_env_checker.py:233: DeprecationWarning: `np.bool8` is a deprecated alias for `np.bool_`.  (Deprecated NumPy 1.24)\n",
      "  if not isinstance(terminated, (bool, np.bool8)):\n"
     ]
    },
    {
     "name": "stdout",
     "output_type": "stream",
     "text": [
      "step: 20\n",
      "step: 40\n",
      "step: 60\n",
      "step: 80\n",
      "step: 100\n",
      "step: 120\n",
      "step: 140\n",
      "step: 160\n",
      "step: 180\n",
      "step: 200\n"
     ]
    }
   ],
   "source": [
    "max_steps = 200\n",
    "step_counter = 0\n",
    "rewards = []\n",
    "while not done and step_counter < max_steps:\n",
    "    action = learner.act_and_step(torch.from_numpy(obs).to(torch.float32))\n",
    "    obs, reward, done, terminated, info = env.step(np.array([action]))\n",
    "    rewards.append(reward)\n",
    "    env.render()\n",
    "    step_counter += 1\n",
    "    if step_counter % 20 == 0:\n",
    "        print(f'step: {step_counter}')\n",
    "env.close()"
   ]
  },
  {
   "cell_type": "code",
   "execution_count": 16,
   "id": "92777b7a-c0e9-4ca6-997e-91c85c292c7c",
   "metadata": {},
   "outputs": [],
   "source": [
    "rewards_np = np.array(rewards)"
   ]
  },
  {
   "cell_type": "code",
   "execution_count": 12,
   "id": "8003a5a5-6366-4681-9878-135fef8b24bb",
   "metadata": {},
   "outputs": [],
   "source": [
    "import matplotlib.pyplot as plt"
   ]
  },
  {
   "cell_type": "code",
   "execution_count": 17,
   "id": "ef65a377-9d2c-43b4-881d-f699ece79417",
   "metadata": {},
   "outputs": [
    {
     "data": {
      "text/plain": [
       "[<matplotlib.lines.Line2D at 0x26dbea9b790>]"
      ]
     },
     "execution_count": 17,
     "metadata": {},
     "output_type": "execute_result"
    },
    {
     "data": {
      "image/png": "[encoded data removed]",
      "text/plain": [
       "<Figure size 640x480 with 1 Axes>"
      ]
     },
     "metadata": {},
     "output_type": "display_data"
    }
   ],
   "source": [
    "plt.plot(rewards_np)"
   ]
  },
  {
   "cell_type": "code",
   "execution_count": 18,
   "id": "dfe3841c-f4b6-4830-860e-93f6dd39fc21",
   "metadata": {},
   "outputs": [
    {
     "data": {
      "text/plain": [
       "(-1.4076841157685576, -16.260836211197034)"
      ]
     },
     "execution_count": 18,
     "metadata": {},
     "output_type": "execute_result"
    }
   ],
   "source": [
    "rewards_np.max(), rewards_np.min()"
   ]
  },
  {
   "cell_type": "code",
   "execution_count": null,
   "id": "4e32a0b7-1f2a-45a4-ba20-e6431135a8e4",
   "metadata": {},
   "outputs": [],
   "source": []
  }
 ],
 "metadata": {
  "kernelspec": {
   "display_name": "Python 3 (ipykernel)",
   "language": "python",
   "name": "python3"
  },
  "language_info": {
   "codemirror_mode": {
    "name": "ipython",
    "version": 3
   },
   "file_extension": ".py",
   "mimetype": "text/x-python",
   "name": "python",
   "nbconvert_exporter": "python",
   "pygments_lexer": "ipython3",
   "version": "3.10.10"
  }
 },
 "nbformat": 4,
 "nbformat_minor": 5
}
