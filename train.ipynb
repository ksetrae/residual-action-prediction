{
 "cells": [
  {
   "cell_type": "code",
   "execution_count": null,
   "id": "38649d3d-50cb-4ff4-b702-f792e174f266",
   "metadata": {},
   "outputs": [],
   "source": [
    "# import sys\n",
    "import pathlib\n",
    "# import os\n",
    "\n",
    "# # in order to do relative import\n",
    "# sys.path.append(str(pathlib.Path(os.getcwd()).parent))\n",
    "# sys.path.append(str(pathlib.Path(os.getcwd()).parent.parent))"
   ]
  },
  {
   "cell_type": "code",
   "execution_count": null,
   "id": "59886afe-9ca8-4206-98b5-3ba7ba244586",
   "metadata": {},
   "outputs": [],
   "source": [
    "import numpy as np\n",
    "import torch\n",
    "\n",
    "from residual_actions import ResidualActionsSettings, ResidualActionsLearner"
   ]
  },
  {
   "cell_type": "markdown",
   "id": "7e9b3c63-09bb-4b7f-a237-3d6016ec66dc",
   "metadata": {},
   "source": [
    "# Read data"
   ]
  },
  {
   "cell_type": "code",
   "execution_count": null,
   "id": "adf3f54a-ff4a-4e66-b201-2edf1685e952",
   "metadata": {},
   "outputs": [],
   "source": [
    "with open('datasets/expdata_1_2024_12_03_dodge_and_collect_four_min_4800/states.npy', 'rb') as f:\n",
    "    states = np.load(f, allow_pickle=True)\n",
    "with open('datasets/expdata_1_2024_12_03_dodge_and_collect_four_min_4800/actions.npy', 'rb') as f:\n",
    "    actions = np.load(f, allow_pickle=True)"
   ]
  },
  {
   "cell_type": "code",
   "execution_count": null,
   "id": "46046a0e-2617-4fa7-9306-5e0713d31c96",
   "metadata": {},
   "outputs": [],
   "source": [
    "# skip close fromes, essentialy changing from 60 fps to 15 fps\n",
    "states = states[::4, ...]\n",
    "actions = actions[::4, ...]"
   ]
  },
  {
   "cell_type": "code",
   "execution_count": null,
   "id": "9533ae58-158e-452f-93ad-400674a83117",
   "metadata": {},
   "outputs": [],
   "source": [
    "SETTINGS = ResidualActionsSettings(\n",
    "    history_size=16,\n",
    "    hidden_channels_memory=128,\n",
    "    hidden_channels_behavior=256,\n",
    "    batch_size=32,\n",
    "    optim_learning_rate=0.001,\n",
    "    target_loss=1e-07,\n",
    "    force_stop_at_plateau_epochs=20,\n",
    "    train_log_frequency=10,\n",
    "    running_loss_window_size=10,\n",
    "    min_epochs=100,\n",
    "    grace_epochs_after_min_epochs=20,\n",
    "    max_epochs=900\n",
    ")"
   ]
  },
  {
   "cell_type": "markdown",
   "id": "6df8c8e8-40d0-4776-aabe-16761309d1fa",
   "metadata": {},
   "source": [
    "# Train"
   ]
  },
  {
   "cell_type": "code",
   "execution_count": null,
   "id": "bcf0c7fa-06ba-4d14-96ec-770f5f1c392d",
   "metadata": {},
   "outputs": [],
   "source": [
    "learner = ResidualActionsLearner(\n",
    "    state_space_size=states.shape[-1],\n",
    "    action_space_size=actions.shape[-1],\n",
    "    settings=SETTINGS,\n",
    "    device='cuda'\n",
    ")"
   ]
  },
  {
   "cell_type": "code",
   "execution_count": null,
   "id": "dd7821b5-4b94-4dae-bc63-129f7f0ac1e5",
   "metadata": {
    "scrolled": true
   },
   "outputs": [],
   "source": [
    "learner.process_and_train_full(\n",
    "    states_train=torch.from_numpy(states).to(torch.float32).cuda(),\n",
    "    actions_train=torch.from_numpy(actions).to(torch.float32).cuda()\n",
    ")"
   ]
  },
  {
   "cell_type": "code",
   "execution_count": null,
   "id": "e3bb083f-57c3-481e-989e-4b11c25474ad",
   "metadata": {},
   "outputs": [],
   "source": []
  }
 ],
 "metadata": {
  "kernelspec": {
   "display_name": "Python 3 (ipykernel)",
   "language": "python",
   "name": "python3"
  },
  "language_info": {
   "codemirror_mode": {
    "name": "ipython",
    "version": 3
   },
   "file_extension": ".py",
   "mimetype": "text/x-python",
   "name": "python",
   "nbconvert_exporter": "python",
   "pygments_lexer": "ipython3",
   "version": "3.10.10"
  }
 },
 "nbformat": 4,
 "nbformat_minor": 5
}
